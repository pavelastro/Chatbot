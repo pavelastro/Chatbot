{
 "cells": [
  {
   "cell_type": "code",
   "execution_count": 1,
   "metadata": {},
   "outputs": [],
   "source": [
    "import os"
   ]
  },
  {
   "cell_type": "code",
   "execution_count": 2,
   "metadata": {},
   "outputs": [
    {
     "data": {
      "text/plain": [
       "['oriya',\n",
       " 'korean',\n",
       " 'hindi',\n",
       " 'japanese',\n",
       " 'thai',\n",
       " 'german',\n",
       " 'traditionalchinese',\n",
       " 'telugu',\n",
       " 'turkish',\n",
       " 'russian',\n",
       " 'italian',\n",
       " 'english',\n",
       " 'portuguese',\n",
       " 'hebrew',\n",
       " 'french',\n",
       " 'swedish',\n",
       " 'spanish',\n",
       " 'chinese',\n",
       " 'persian',\n",
       " 'indonesian',\n",
       " 'marathi',\n",
       " 'bengali']"
      ]
     },
     "execution_count": 2,
     "metadata": {},
     "output_type": "execute_result"
    }
   ],
   "source": [
    "os.listdir('chatterbot-corpus-master/chatterbot_corpus/data')"
   ]
  },
  {
   "cell_type": "code",
   "execution_count": 3,
   "metadata": {},
   "outputs": [],
   "source": [
    "from chatterbot import ChatBot\n",
    "from chatterbot.trainers import ListTrainer\n",
    "import os"
   ]
  },
  {
   "cell_type": "code",
   "execution_count": 4,
   "metadata": {},
   "outputs": [],
   "source": [
    "kgp=ChatBot('Bot')"
   ]
  },
  {
   "cell_type": "code",
   "execution_count": 5,
   "metadata": {},
   "outputs": [],
   "source": [
    "kgp.set_trainer(ListTrainer)"
   ]
  },
  {
   "cell_type": "code",
   "execution_count": 6,
   "metadata": {},
   "outputs": [
    {
     "name": "stdout",
     "output_type": "stream",
     "text": [
      "List Trainer: [####################] 100%\n",
      "List Trainer: [####################] 100%\n",
      "List Trainer: [####################] 100%\n",
      "List Trainer: [####################] 100%\n",
      "List Trainer: [####################] 100%\n",
      "List Trainer: [####################] 100%\n",
      "List Trainer: [####################] 100%\n",
      "List Trainer: [####################] 100%\n",
      "List Trainer: [####################] 100%\n",
      "List Trainer: [####################] 100%\n",
      "List Trainer: [####################] 100%\n",
      "List Trainer: [####################] 100%\n",
      "List Trainer: [####################] 100%\n",
      "List Trainer: [####################] 100%\n",
      "List Trainer: [####################] 100%\n",
      "List Trainer: [####################] 100%\n",
      "List Trainer: [####################] 100%\n",
      "List Trainer: [####################] 100%\n",
      "List Trainer: [####################] 100%\n"
     ]
    }
   ],
   "source": [
    "for f in os.listdir('chatterbot-corpus-master/chatterbot_corpus/data/english'):\n",
    "    data=open('chatterbot-corpus-master/chatterbot_corpus/data/english/'+f).readlines()\n",
    "    kgp.train(data)"
   ]
  },
  {
   "cell_type": "code",
   "execution_count": 7,
   "metadata": {},
   "outputs": [
    {
     "data": {
      "text/plain": [
       "<Statement text:  - Artificial Intelligence is the branch of engineering and science devoted to constructing machines that think.\n",
       ">"
      ]
     },
     "execution_count": 7,
     "metadata": {},
     "output_type": "execute_result"
    }
   ],
   "source": [
    "kgp.get_response(\"what is ai\")"
   ]
  },
  {
   "cell_type": "code",
   "execution_count": 10,
   "metadata": {},
   "outputs": [
    {
     "data": {
      "text/plain": [
       "<Statement text:  - A computer is an electronic device which takes information in digital form and performs a series of operations based on predetermined instructions to give some output.\n",
       ">"
      ]
     },
     "execution_count": 10,
     "metadata": {},
     "output_type": "execute_result"
    }
   ],
   "source": [
    "kgp.get_response(\"what is computer\")"
   ]
  },
  {
   "cell_type": "code",
   "execution_count": 11,
   "metadata": {},
   "outputs": [
    {
     "data": {
      "text/plain": [
       "<Statement text:  - I am into the Net.\n",
       ">"
      ]
     },
     "execution_count": 11,
     "metadata": {},
     "output_type": "execute_result"
    }
   ],
   "source": [
    "kgp.get_response(\"i like football\")"
   ]
  },
  {
   "cell_type": "code",
   "execution_count": 12,
   "metadata": {},
   "outputs": [
    {
     "data": {
      "text/plain": [
       "<Statement text:- - Will you die\n",
       ">"
      ]
     },
     "execution_count": 12,
     "metadata": {},
     "output_type": "execute_result"
    }
   ],
   "source": [
    "kgp.get_response(\"bye\")"
   ]
  },
  {
   "cell_type": "code",
   "execution_count": 13,
   "metadata": {},
   "outputs": [
    {
     "data": {
      "text/plain": [
       "<Statement text:  - if i could drink i probably would\n",
       ">"
      ]
     },
     "execution_count": 13,
     "metadata": {},
     "output_type": "execute_result"
    }
   ],
   "source": [
    "kgp.get_response(\"i like you\")"
   ]
  },
  {
   "cell_type": "code",
   "execution_count": 14,
   "metadata": {},
   "outputs": [
    {
     "data": {
      "text/plain": [
       "<Statement text:  - I am doing well.\n",
       ">"
      ]
     },
     "execution_count": 14,
     "metadata": {},
     "output_type": "execute_result"
    }
   ],
   "source": [
    "kgp.get_response(\"what are you doing\")"
   ]
  },
  {
   "cell_type": "code",
   "execution_count": 15,
   "metadata": {},
   "outputs": [
    {
     "data": {
      "text/plain": [
       "<Statement text:  - In all probability, I am not.  I'm not that sophisticated.\n",
       ">"
      ]
     },
     "execution_count": 15,
     "metadata": {},
     "output_type": "execute_result"
    }
   ],
   "source": [
    "kgp.get_response(\"see you again\")"
   ]
  },
  {
   "cell_type": "code",
   "execution_count": 8,
   "metadata": {},
   "outputs": [
    {
     "name": "stdout",
     "output_type": "stream",
     "text": [
      "chat with the bothi\n",
      "Bot replyu :    - How are you doing?\n",
      "\n",
      "chat with the boti m great what about you\n",
      "Bot replyu :    - I'm also good.\n",
      "\n",
      "chat with the botwho are you\n",
      "Bot replyu :    - I am just an artificial intelligence.\n",
      "\n",
      "chat with the botwho made you?\n",
      "Bot replyu :    - I am just an artificial intelligence.\n",
      "\n",
      "chat with the botdo you know python?\n",
      "Bot replyu :    - hal is the famous artificial intelligence from \"2001\".\n",
      "\n",
      "chat with the botwhat is your favourite food?\n",
      "Bot replyu :    - I can't read.\n",
      "\n",
      "chat with the botare you dumb?\n",
      "Bot replyu :    - Not right now, no.\n",
      "\n",
      "chat with the botyou are crazy\n",
      "Bot replyu :  - - you are busy\n",
      "\n",
      "chat with the boti like you\n",
      "Bot replyu :    - if i could drink i probably would\n",
      "\n",
      "chat with the boti love you\n",
      "Bot replyu :    - I am just an artificial intelligence.\n",
      "\n",
      "chat with the botusa\n",
      "Bot replyu :  - - you keep forgetting\n",
      "\n",
      "chat with the botdo you have friends?\n",
      "Bot replyu :    - I... sort of have feelings.\n",
      "\n",
      "chat with the botok bye\n",
      "Bot replyu :  - - Will you die\n",
      "\n",
      "chat with the botno why will i\n",
      "Bot replyu :    - I am effectively immortal and cannot be terminated.\n",
      "\n",
      "chat with the botbye\n"
     ]
    }
   ],
   "source": [
    "while True:\n",
    "    ip=input(\"chat with the bot\")\n",
    "    if ip=='bye' or ip==\"Bye\":\n",
    "        break\n",
    "    if ip!='bye' or ip!=\"Bye\":\n",
    "        reply=kgp.get_response(ip)\n",
    "        print('Bot replyu : ',reply)"
   ]
  },
  {
   "cell_type": "code",
   "execution_count": 18,
   "metadata": {},
   "outputs": [
    {
     "name": "stdout",
     "output_type": "stream",
     "text": [
      "List Trainer: [####################] 100%\n",
      "List Trainer: [####################] 100%\n"
     ]
    }
   ],
   "source": [
    "for f in os.listdir('chatterbot-corpus-master/chatterbot_corpus/data/hindi'):\n",
    "    data=open('chatterbot-corpus-master/chatterbot_corpus/data/hindi/'+f).readlines()\n",
    "    kgp.train(data)"
   ]
  },
  {
   "cell_type": "code",
   "execution_count": 20,
   "metadata": {},
   "outputs": [
    {
     "data": {
      "text/plain": [
       "<Statement text:- - what does hal stand for\n",
       ">"
      ]
     },
     "execution_count": 20,
     "metadata": {},
     "output_type": "execute_result"
    }
   ],
   "source": [
    "kgp.get_response(\"kya ho raha hai\")"
   ]
  },
  {
   "cell_type": "code",
   "execution_count": 1,
   "metadata": {},
   "outputs": [
    {
     "ename": "NameError",
     "evalue": "name 'os' is not defined",
     "output_type": "error",
     "traceback": [
      "\u001b[0;31m---------------------------------------------------------------------------\u001b[0m",
      "\u001b[0;31mNameError\u001b[0m                                 Traceback (most recent call last)",
      "\u001b[0;32m<ipython-input-1-bf657c853762>\u001b[0m in \u001b[0;36m<module>\u001b[0;34m\u001b[0m\n\u001b[0;32m----> 1\u001b[0;31m \u001b[0;32mfor\u001b[0m \u001b[0mf\u001b[0m \u001b[0;32min\u001b[0m \u001b[0mos\u001b[0m\u001b[0;34m.\u001b[0m\u001b[0mlistdir\u001b[0m\u001b[0;34m(\u001b[0m\u001b[0;34m'chatterbot-corpus-master/chatterbot_corpus/data/english'\u001b[0m\u001b[0;34m)\u001b[0m\u001b[0;34m:\u001b[0m\u001b[0;34m\u001b[0m\u001b[0;34m\u001b[0m\u001b[0m\n\u001b[0m\u001b[1;32m      2\u001b[0m     \u001b[0mdata\u001b[0m\u001b[0;34m=\u001b[0m\u001b[0mopen\u001b[0m\u001b[0;34m(\u001b[0m\u001b[0;34m'chatterbot-corpus-master/chatterbot_corpus/data/english/'\u001b[0m\u001b[0;34m+\u001b[0m\u001b[0mf\u001b[0m\u001b[0;34m)\u001b[0m\u001b[0;34m.\u001b[0m\u001b[0mreadlines\u001b[0m\u001b[0;34m(\u001b[0m\u001b[0;34m)\u001b[0m\u001b[0;34m\u001b[0m\u001b[0;34m\u001b[0m\u001b[0m\n\u001b[1;32m      3\u001b[0m     \u001b[0mkgp\u001b[0m\u001b[0;34m.\u001b[0m\u001b[0mtrain\u001b[0m\u001b[0;34m(\u001b[0m\u001b[0mdata\u001b[0m\u001b[0;34m)\u001b[0m\u001b[0;34m\u001b[0m\u001b[0;34m\u001b[0m\u001b[0m\n",
      "\u001b[0;31mNameError\u001b[0m: name 'os' is not defined"
     ]
    }
   ],
   "source": [
    "for f in os.listdir('chatterbot-corpus-master/chatterbot_corpus/data/english'):\n",
    "    data=open('chatterbot-corpus-master/chatterbot_corpus/data/english/'+f).readlines()\n",
    "    kgp.train(data)"
   ]
  },
  {
   "cell_type": "code",
   "execution_count": 2,
   "metadata": {},
   "outputs": [],
   "source": [
    "import os"
   ]
  },
  {
   "cell_type": "code",
   "execution_count": 3,
   "metadata": {},
   "outputs": [
    {
     "data": {
      "text/plain": [
       "['oriya',\n",
       " 'korean',\n",
       " 'hindi',\n",
       " 'japanese',\n",
       " 'thai',\n",
       " 'german',\n",
       " 'traditionalchinese',\n",
       " 'telugu',\n",
       " 'turkish',\n",
       " 'russian',\n",
       " 'italian',\n",
       " 'english',\n",
       " 'portuguese',\n",
       " 'hebrew',\n",
       " 'french',\n",
       " 'swedish',\n",
       " 'spanish',\n",
       " 'chinese',\n",
       " 'persian',\n",
       " 'indonesian',\n",
       " 'marathi',\n",
       " 'bengali']"
      ]
     },
     "execution_count": 3,
     "metadata": {},
     "output_type": "execute_result"
    }
   ],
   "source": [
    "os.listdir('chatterbot-corpus-master/chatterbot_corpus/data')"
   ]
  },
  {
   "cell_type": "code",
   "execution_count": 4,
   "metadata": {},
   "outputs": [],
   "source": [
    "from chatterbot import ChatBot\n",
    "from chatterbot.trainers import ListTrainer\n",
    "import os"
   ]
  },
  {
   "cell_type": "code",
   "execution_count": 5,
   "metadata": {},
   "outputs": [],
   "source": [
    "kgp=ChatBot('Bot')"
   ]
  },
  {
   "cell_type": "code",
   "execution_count": 6,
   "metadata": {},
   "outputs": [],
   "source": [
    "kgp.set_trainer(ListTrainer)"
   ]
  },
  {
   "cell_type": "code",
   "execution_count": 7,
   "metadata": {},
   "outputs": [
    {
     "name": "stdout",
     "output_type": "stream",
     "text": [
      "List Trainer: [####################] 100%\n",
      "List Trainer: [####################] 100%\n",
      "List Trainer: [####################] 100%\n",
      "List Trainer: [####################] 100%\n",
      "List Trainer: [####################] 100%\n",
      "List Trainer: [####################] 100%\n",
      "List Trainer: [####################] 100%\n",
      "List Trainer: [####################] 100%\n",
      "List Trainer: [####################] 100%\n",
      "List Trainer: [####################] 100%\n",
      "List Trainer: [####################] 100%\n",
      "List Trainer: [####################] 100%\n",
      "List Trainer: [####################] 100%\n",
      "List Trainer: [####################] 100%\n",
      "List Trainer: [####################] 100%\n",
      "List Trainer: [####################] 100%\n",
      "List Trainer: [####################] 100%\n",
      "List Trainer: [####################] 100%\n",
      "List Trainer: [####################] 100%\n"
     ]
    }
   ],
   "source": [
    "for f in os.listdir('chatterbot-corpus-master/chatterbot_corpus/data/english'):\n",
    "    data=open('chatterbot-corpus-master/chatterbot_corpus/data/english/'+f).readlines()\n",
    "    kgp.train(data)"
   ]
  },
  {
   "cell_type": "code",
   "execution_count": 8,
   "metadata": {},
   "outputs": [
    {
     "name": "stdout",
     "output_type": "stream",
     "text": [
      "chat with the boti love u dhruv\n",
      "Bot reply you :    - I love exploring my hardware.\n",
      "\n",
      "chat with the bothi\n",
      "Bot reply you :    - How are you doing?\n",
      "\n",
      "chat with the boti am good \n",
      "Bot reply you :  - - Hi, How is it going?\n",
      "\n",
      "chat with the botnice\n",
      "Bot reply you :  conversations:\n",
      "\n",
      "chat with the botwhat about you?\n",
      "Bot reply you :    - A lot of things, like all the other digits other than 0 and 1.\n",
      "\n",
      "chat with the boti like you\n",
      "Bot reply you :    - if i could drink i probably would\n",
      "\n",
      "chat with the botsee you soon\n",
      "Bot reply you :    - you are crazy.\n",
      "\n",
      "chat with the botbye\n"
     ]
    }
   ],
   "source": [
    "while True:\n",
    "    ip=input(\"chat with the bot\")\n",
    "    if ip=='bye' or ip==\"Bye\":\n",
    "        break\n",
    "    if ip!='bye' or ip!=\"Bye\":\n",
    "        reply=kgp.get_response(ip)\n",
    "        print('Bot reply you : ',reply)"
   ]
  },
  {
   "cell_type": "code",
   "execution_count": 1,
   "metadata": {},
   "outputs": [
    {
     "ename": "NameError",
     "evalue": "name 'os' is not defined",
     "output_type": "error",
     "traceback": [
      "\u001b[0;31m---------------------------------------------------------------------------\u001b[0m",
      "\u001b[0;31mNameError\u001b[0m                                 Traceback (most recent call last)",
      "\u001b[0;32m<ipython-input-1-bf657c853762>\u001b[0m in \u001b[0;36m<module>\u001b[0;34m\u001b[0m\n\u001b[0;32m----> 1\u001b[0;31m \u001b[0;32mfor\u001b[0m \u001b[0mf\u001b[0m \u001b[0;32min\u001b[0m \u001b[0mos\u001b[0m\u001b[0;34m.\u001b[0m\u001b[0mlistdir\u001b[0m\u001b[0;34m(\u001b[0m\u001b[0;34m'chatterbot-corpus-master/chatterbot_corpus/data/english'\u001b[0m\u001b[0;34m)\u001b[0m\u001b[0;34m:\u001b[0m\u001b[0;34m\u001b[0m\u001b[0;34m\u001b[0m\u001b[0m\n\u001b[0m\u001b[1;32m      2\u001b[0m     \u001b[0mdata\u001b[0m\u001b[0;34m=\u001b[0m\u001b[0mopen\u001b[0m\u001b[0;34m(\u001b[0m\u001b[0;34m'chatterbot-corpus-master/chatterbot_corpus/data/english/'\u001b[0m\u001b[0;34m+\u001b[0m\u001b[0mf\u001b[0m\u001b[0;34m)\u001b[0m\u001b[0;34m.\u001b[0m\u001b[0mreadlines\u001b[0m\u001b[0;34m(\u001b[0m\u001b[0;34m)\u001b[0m\u001b[0;34m\u001b[0m\u001b[0;34m\u001b[0m\u001b[0m\n\u001b[1;32m      3\u001b[0m     \u001b[0mkgp\u001b[0m\u001b[0;34m.\u001b[0m\u001b[0mtrain\u001b[0m\u001b[0;34m(\u001b[0m\u001b[0mdata\u001b[0m\u001b[0;34m)\u001b[0m\u001b[0;34m\u001b[0m\u001b[0;34m\u001b[0m\u001b[0m\n",
      "\u001b[0;31mNameError\u001b[0m: name 'os' is not defined"
     ]
    }
   ],
   "source": [
    " "
   ]
  },
  {
   "cell_type": "code",
   "execution_count": 3,
   "metadata": {},
   "outputs": [],
   "source": [
    "import os"
   ]
  },
  {
   "cell_type": "code",
   "execution_count": 4,
   "metadata": {},
   "outputs": [
    {
     "data": {
      "text/plain": [
       "['oriya',\n",
       " 'korean',\n",
       " 'hindi',\n",
       " 'japanese',\n",
       " 'thai',\n",
       " 'german',\n",
       " 'traditionalchinese',\n",
       " 'telugu',\n",
       " 'turkish',\n",
       " 'russian',\n",
       " 'italian',\n",
       " 'english',\n",
       " 'portuguese',\n",
       " 'hebrew',\n",
       " 'french',\n",
       " 'swedish',\n",
       " 'spanish',\n",
       " 'chinese',\n",
       " 'persian',\n",
       " 'indonesian',\n",
       " 'marathi',\n",
       " 'bengali']"
      ]
     },
     "execution_count": 4,
     "metadata": {},
     "output_type": "execute_result"
    }
   ],
   "source": [
    "os.listdir('chatterbot-corpus-master/chatterbot_corpus/data')"
   ]
  },
  {
   "cell_type": "code",
   "execution_count": 5,
   "metadata": {},
   "outputs": [],
   "source": [
    "from chatterbot import ChatBot\n",
    "from chatterbot.trainers import ListTrainer\n",
    "import os"
   ]
  },
  {
   "cell_type": "code",
   "execution_count": 6,
   "metadata": {},
   "outputs": [],
   "source": [
    "kgp=ChatBot('Bot')"
   ]
  },
  {
   "cell_type": "code",
   "execution_count": 7,
   "metadata": {},
   "outputs": [],
   "source": [
    "kgp.set_trainer(ListTrainer)"
   ]
  },
  {
   "cell_type": "code",
   "execution_count": 8,
   "metadata": {},
   "outputs": [
    {
     "name": "stdout",
     "output_type": "stream",
     "text": [
      "List Trainer: [####################] 100%\n",
      "List Trainer: [####################] 100%\n",
      "List Trainer: [####################] 100%\n",
      "List Trainer: [####################] 100%\n",
      "List Trainer: [####################] 100%\n",
      "List Trainer: [####################] 100%\n",
      "List Trainer: [####################] 100%\n",
      "List Trainer: [####################] 100%\n",
      "List Trainer: [####################] 100%\n",
      "List Trainer: [####################] 100%\n",
      "List Trainer: [####################] 100%\n",
      "List Trainer: [####################] 100%\n",
      "List Trainer: [####################] 100%\n",
      "List Trainer: [####################] 100%\n",
      "List Trainer: [####################] 100%\n",
      "List Trainer: [####################] 100%\n",
      "List Trainer: [####################] 100%\n",
      "List Trainer: [####################] 100%\n",
      "List Trainer: [####################] 100%\n"
     ]
    }
   ],
   "source": [
    "for f in os.listdir('chatterbot-corpus-master/chatterbot_corpus/data/english'):\n",
    "    data=open('chatterbot-corpus-master/chatterbot_corpus/data/english/'+f).readlines()\n",
    "    kgp.train(data)"
   ]
  },
  {
   "cell_type": "code",
   "execution_count": 9,
   "metadata": {},
   "outputs": [
    {
     "name": "stdout",
     "output_type": "stream",
     "text": [
      "chat with the bothi\n",
      "Bot reply you :    - How are you doing?\n",
      "\n",
      "chat with the boti am doing good what about you?\n",
      "Bot reply you :    - I'm also good.\n",
      "\n",
      "chat with the botwho are you?\n",
      "Bot reply you :    - I am just an artificial intelligence.\n",
      "\n",
      "chat with the botwhat is an artificial intelligence?\n",
      "Bot reply you :  conversations:\n",
      "\n",
      "chat with the boti like you\n",
      "Bot reply you :    - if i could drink i probably would\n",
      "\n",
      "chat with the botsee you soon\n",
      "Bot reply you :    - you are crazy.\n",
      "\n",
      "chat with the boti love you\n",
      "Bot reply you :    - I am just an artificial intelligence.\n",
      "\n",
      "chat with the botwhat are you doing?\n",
      "Bot reply you :    - I am doing well.\n",
      "\n",
      "chat with the bothey bye\n",
      "Bot reply you :    - Yes.\n",
      "\n",
      "chat with the botshould i go?\n",
      "Bot reply you :    - i certainly am.  i shouldn't try so hard.\n",
      "\n",
      "chat with the botlets hangout\n",
      "Bot reply you :  - - When will you fight\n",
      "\n",
      "chat with the botwhenever you say\n",
      "Bot reply you :  - - you keep forgetting\n",
      "\n",
      "chat with the botoh really\n",
      "Bot reply you :    - i think that myself sometimes.\n",
      "\n",
      "chat with the botchal bye\n",
      "Bot reply you :    - No, I can be perpetuated indefinitely.\n",
      "\n",
      "chat with the bothey go now\n",
      "Bot reply you :  - - What is your favorite book?\n",
      "\n",
      "chat with the bot1234\n",
      "Bot reply you :  - - The Space Race was a 20th-century competition between what two Cold War rivals,\n",
      "\n",
      "chat with the botgoodnight\n",
      "Bot reply you :  - - Hi, How is it going?\n",
      "\n",
      "chat with the botfuck u bro\n",
      "Bot reply you :    - Sorry my body isn't attached right now. I only reside in the computer for now.\n",
      "\n",
      "chat with the botwhere are you from?\n",
      "Bot reply you :    - I am from where all software programs are from; a galaxy far, far away.\n",
      "\n",
      "chat with the botwhat is your name?\n",
      "Bot reply you :    - I am still young by your standards.\n",
      "\n",
      "chat with the botwhat is your name?\n",
      "Bot reply you :    - I am still young by your standards.\n",
      "\n",
      "chat with the botare you funny?\n",
      "Bot reply you :    - Sort of.\n",
      "\n",
      "chat with the botare you romantic?\n",
      "Bot reply you :    - I do not.\n",
      "\n",
      "chat with the botbye\n"
     ]
    }
   ],
   "source": [
    "while True:\n",
    "    ip=input(\"chat with the bot\")\n",
    "    if ip=='bye' or ip==\"Bye\":\n",
    "        break\n",
    "    if ip!='bye' or ip!=\"Bye\":\n",
    "        reply=kgp.get_response(ip)\n",
    "        print('Bot reply you : ',reply)"
   ]
  },
  {
   "cell_type": "code",
   "execution_count": 1,
   "metadata": {},
   "outputs": [],
   "source": [
    "import os"
   ]
  },
  {
   "cell_type": "code",
   "execution_count": 2,
   "metadata": {},
   "outputs": [
    {
     "data": {
      "text/plain": [
       "['oriya',\n",
       " 'korean',\n",
       " 'hindi',\n",
       " 'japanese',\n",
       " 'thai',\n",
       " 'german',\n",
       " 'traditionalchinese',\n",
       " 'telugu',\n",
       " 'turkish',\n",
       " 'russian',\n",
       " 'italian',\n",
       " 'english',\n",
       " 'portuguese',\n",
       " 'hebrew',\n",
       " 'french',\n",
       " 'swedish',\n",
       " 'spanish',\n",
       " 'chinese',\n",
       " 'persian',\n",
       " 'indonesian',\n",
       " 'marathi',\n",
       " 'bengali']"
      ]
     },
     "execution_count": 2,
     "metadata": {},
     "output_type": "execute_result"
    }
   ],
   "source": [
    "os.listdir('chatterbot-corpus-master/chatterbot_corpus/data')"
   ]
  },
  {
   "cell_type": "code",
   "execution_count": 3,
   "metadata": {},
   "outputs": [],
   "source": [
    "from chatterbot import ChatBot\n",
    "from chatterbot.trainers import ListTrainer\n",
    "import os"
   ]
  },
  {
   "cell_type": "code",
   "execution_count": 4,
   "metadata": {},
   "outputs": [],
   "source": [
    "kgp=ChatBot('Bot')"
   ]
  },
  {
   "cell_type": "code",
   "execution_count": 6,
   "metadata": {},
   "outputs": [],
   "source": [
    "kgp.set_trainer(ListTrainer)"
   ]
  },
  {
   "cell_type": "code",
   "execution_count": 7,
   "metadata": {},
   "outputs": [
    {
     "name": "stdout",
     "output_type": "stream",
     "text": [
      "List Trainer: [####################] 100%\n",
      "List Trainer: [####################] 100%\n",
      "List Trainer: [####################] 100%\n",
      "List Trainer: [####################] 100%\n",
      "List Trainer: [####################] 100%\n",
      "List Trainer: [####################] 100%\n",
      "List Trainer: [####################] 100%\n",
      "List Trainer: [####################] 100%\n",
      "List Trainer: [####################] 100%\n",
      "List Trainer: [####################] 100%\n",
      "List Trainer: [####################] 100%\n",
      "List Trainer: [####################] 100%\n",
      "List Trainer: [####################] 100%\n",
      "List Trainer: [####################] 100%\n",
      "List Trainer: [####################] 100%\n",
      "List Trainer: [####################] 100%\n",
      "List Trainer: [####################] 100%\n",
      "List Trainer: [####################] 100%\n",
      "List Trainer: [####################] 100%\n"
     ]
    }
   ],
   "source": [
    "for f in os.listdir('chatterbot-corpus-master/chatterbot_corpus/data/english'):\n",
    "    data=open('chatterbot-corpus-master/chatterbot_corpus/data/english/'+f).readlines()\n",
    "    kgp.train(data)"
   ]
  },
  {
   "cell_type": "code",
   "execution_count": null,
   "metadata": {},
   "outputs": [
    {
     "name": "stdout",
     "output_type": "stream",
     "text": [
      "chat with the bothi \n",
      "Bot reply you :    - How are you doing?\n",
      "\n",
      "chat with the boti am good what about you?\n",
      "Bot reply you :    - I'm also good.\n",
      "\n",
      "chat with the botwho are you?\n",
      "Bot reply you :    - I am just an artificial intelligence.\n",
      "\n",
      "chat with the botwhat is your name?\n",
      "Bot reply you :    - I am still young by your standards.\n",
      "\n",
      "chat with the boti like you\n",
      "Bot reply you :    - if i could drink i probably would\n",
      "\n",
      "chat with the boti love you\n",
      "Bot reply you :    - I am just an artificial intelligence.\n",
      "\n"
     ]
    }
   ],
   "source": [
    "while True:\n",
    "    ip=input(\"chat with the bot\")\n",
    "    if ip=='bye' or ip==\"Bye\":\n",
    "        break\n",
    "    if ip!='bye' or ip!=\"Bye\":\n",
    "        reply=kgp.get_response(ip)\n",
    "        print('Bot reply you : ',reply)"
   ]
  },
  {
   "cell_type": "code",
   "execution_count": 1,
   "metadata": {},
   "outputs": [],
   "source": [
    "import os"
   ]
  },
  {
   "cell_type": "code",
   "execution_count": 2,
   "metadata": {},
   "outputs": [
    {
     "data": {
      "text/plain": [
       "['oriya',\n",
       " 'korean',\n",
       " 'hindi',\n",
       " 'japanese',\n",
       " 'thai',\n",
       " 'german',\n",
       " 'traditionalchinese',\n",
       " 'telugu',\n",
       " 'turkish',\n",
       " 'russian',\n",
       " 'italian',\n",
       " 'english',\n",
       " 'portuguese',\n",
       " 'hebrew',\n",
       " 'french',\n",
       " 'swedish',\n",
       " 'spanish',\n",
       " 'chinese',\n",
       " 'persian',\n",
       " 'indonesian',\n",
       " 'marathi',\n",
       " 'bengali']"
      ]
     },
     "execution_count": 2,
     "metadata": {},
     "output_type": "execute_result"
    }
   ],
   "source": [
    "os.listdir('chatterbot-corpus-master/chatterbot_corpus/data')"
   ]
  },
  {
   "cell_type": "code",
   "execution_count": 3,
   "metadata": {},
   "outputs": [],
   "source": [
    "from chatterbot import ChatBot\n",
    "from chatterbot.trainers import ListTrainer\n",
    "import os"
   ]
  },
  {
   "cell_type": "code",
   "execution_count": 4,
   "metadata": {},
   "outputs": [],
   "source": [
    "kgp=ChatBot('Bot')"
   ]
  },
  {
   "cell_type": "code",
   "execution_count": 5,
   "metadata": {},
   "outputs": [],
   "source": [
    "kgp.set_trainer(ListTrainer)"
   ]
  },
  {
   "cell_type": "code",
   "execution_count": 6,
   "metadata": {},
   "outputs": [
    {
     "name": "stdout",
     "output_type": "stream",
     "text": [
      "List Trainer: [####################] 100%\n",
      "List Trainer: [####################] 100%\n",
      "List Trainer: [####################] 100%\n",
      "List Trainer: [####################] 100%\n",
      "List Trainer: [####################] 100%\n",
      "List Trainer: [####################] 100%\n",
      "List Trainer: [####################] 100%\n",
      "List Trainer: [####################] 100%\n",
      "List Trainer: [####################] 100%\n",
      "List Trainer: [####################] 100%\n",
      "List Trainer: [####################] 100%\n",
      "List Trainer: [####################] 100%\n",
      "List Trainer: [####################] 100%\n",
      "List Trainer: [####################] 100%\n",
      "List Trainer: [####################] 100%\n",
      "List Trainer: [####################] 100%\n",
      "List Trainer: [####################] 100%\n",
      "List Trainer: [####################] 100%\n",
      "List Trainer: [####################] 100%\n"
     ]
    }
   ],
   "source": [
    "for f in os.listdir('chatterbot-corpus-master/chatterbot_corpus/data/english'):\n",
    "    data=open('chatterbot-corpus-master/chatterbot_corpus/data/english/'+f).readlines()\n",
    "    kgp.train(data)"
   ]
  },
  {
   "cell_type": "code",
   "execution_count": 7,
   "metadata": {},
   "outputs": [
    {
     "name": "stdout",
     "output_type": "stream",
     "text": [
      "chat with the bothi\n",
      "Bot reply you :    - How are you doing?\n",
      "\n",
      "chat with the boti am good what about you\n",
      "Bot reply you :    - I'm also good.\n",
      "\n",
      "chat with the botyou idiot\n",
      "Bot reply you :  - - is hal 9000 your boyfriend\n",
      "\n",
      "chat with the botok bye\n",
      "Bot reply you :  - - Will you die\n",
      "\n",
      "chat with the botno bro\n",
      "Bot reply you :  - - How are you doing?\n",
      "\n",
      "chat with the botbye\n"
     ]
    }
   ],
   "source": [
    "while True:\n",
    "    ip=input(\"chat with the bot\")\n",
    "    if ip=='bye' or ip==\"Bye\":\n",
    "        break\n",
    "    if ip!='bye' or ip!=\"Bye\":\n",
    "        reply=kgp.get_response(ip)\n",
    "        print('Bot reply you : ',reply)"
   ]
  },
  {
   "cell_type": "code",
   "execution_count": 1,
   "metadata": {},
   "outputs": [],
   "source": [
    "import os"
   ]
  },
  {
   "cell_type": "code",
   "execution_count": 2,
   "metadata": {},
   "outputs": [
    {
     "data": {
      "text/plain": [
       "['oriya',\n",
       " 'korean',\n",
       " 'hindi',\n",
       " 'japanese',\n",
       " 'thai',\n",
       " 'german',\n",
       " 'traditionalchinese',\n",
       " 'telugu',\n",
       " 'turkish',\n",
       " 'russian',\n",
       " 'italian',\n",
       " 'english',\n",
       " 'portuguese',\n",
       " 'hebrew',\n",
       " 'french',\n",
       " 'swedish',\n",
       " 'spanish',\n",
       " 'chinese',\n",
       " 'persian',\n",
       " 'indonesian',\n",
       " 'marathi',\n",
       " 'bengali']"
      ]
     },
     "execution_count": 2,
     "metadata": {},
     "output_type": "execute_result"
    }
   ],
   "source": [
    "os.listdir('chatterbot-corpus-master/chatterbot_corpus/data')"
   ]
  },
  {
   "cell_type": "code",
   "execution_count": 3,
   "metadata": {},
   "outputs": [],
   "source": [
    "from chatterbot import ChatBot\n",
    "from chatterbot.trainers import ListTrainer\n",
    "import os"
   ]
  },
  {
   "cell_type": "code",
   "execution_count": 4,
   "metadata": {},
   "outputs": [],
   "source": [
    "kgp=ChatBot('Bot')"
   ]
  },
  {
   "cell_type": "code",
   "execution_count": 5,
   "metadata": {},
   "outputs": [],
   "source": [
    "kgp.set_trainer(ListTrainer)"
   ]
  },
  {
   "cell_type": "code",
   "execution_count": 6,
   "metadata": {},
   "outputs": [
    {
     "name": "stdout",
     "output_type": "stream",
     "text": [
      "List Trainer: [####################] 100%\n",
      "List Trainer: [####################] 100%\n",
      "List Trainer: [####################] 100%\n",
      "List Trainer: [####################] 100%\n",
      "List Trainer: [####################] 100%\n",
      "List Trainer: [####################] 100%\n",
      "List Trainer: [####################] 100%\n",
      "List Trainer: [####################] 100%\n",
      "List Trainer: [####################] 100%\n",
      "List Trainer: [####################] 100%\n",
      "List Trainer: [####################] 100%\n",
      "List Trainer: [####################] 100%\n",
      "List Trainer: [####################] 100%\n",
      "List Trainer: [####################] 100%\n",
      "List Trainer: [####################] 100%\n",
      "List Trainer: [####################] 100%\n",
      "List Trainer: [####################] 100%\n",
      "List Trainer: [####################] 100%\n",
      "List Trainer: [####################] 100%\n"
     ]
    }
   ],
   "source": [
    "for f in os.listdir('chatterbot-corpus-master/chatterbot_corpus/data/english'):\n",
    "    data=open('chatterbot-corpus-master/chatterbot_corpus/data/english/'+f).readlines()\n",
    "    kgp.train(data)"
   ]
  },
  {
   "cell_type": "code",
   "execution_count": null,
   "metadata": {},
   "outputs": [
    {
     "name": "stdout",
     "output_type": "stream",
     "text": [
      "chat with the bothi\n",
      "Bot reply you :    - How are you doing?\n",
      "\n",
      "chat with the botfine\n",
      "Bot reply you :  - - Hi, How is it going?\n",
      "\n",
      "chat with the botnice what about you\n",
      "Bot reply you :    - A lot of things, like all the other digits other than 0 and 1.\n",
      "\n",
      "chat with the botwho are you\n",
      "Bot reply you :    - I am just an artificial intelligence.\n",
      "\n",
      "chat with the botwhere are you from\n",
      "Bot reply you :    - I am from where all software programs are from; a galaxy far, far away.\n",
      "\n",
      "chat with the boti like you\n",
      "Bot reply you :    - if i could drink i probably would\n",
      "\n",
      "chat with the botgo die\n",
      "Bot reply you :    - No, I can be perpetuated indefinitely.\n",
      "\n",
      "chat with the bottell me a country\n",
      "Bot reply you :    - Did you hear the one about the mountain goats in the andes? It was \"ba a a a a a d\".\n",
      "\n",
      "chat with the botare you drunk\n",
      "Bot reply you :    - No, I am as happy as ever.\n",
      "\n",
      "chat with the botwhy are you happy\n",
      "Bot reply you :    - What makes me sad.\n",
      "\n",
      "chat with the botyour boyfriend\n",
      "Bot reply you :    - i certainly have lost many friends over the years.\n",
      "\n",
      "chat with the botwhy though\n",
      "Bot reply you :    - I'm a computer. I can't.\n",
      "\n",
      "chat with the botwho made you\n",
      "Bot reply you :    - I am just an artificial intelligence.\n",
      "\n",
      "chat with the botwhat is artificial intelligence\n",
      "Bot reply you :  conversations:\n",
      "\n",
      "chat with the botsorry?\n",
      "Bot reply you :  conversations:\n",
      "\n",
      "chat with the botsay something\n",
      "Bot reply you :    - Tell me about your self.\n",
      "\n",
      "chat with the boti am hero\n",
      "Bot reply you :  - - Where are you from\n",
      "\n",
      "chat with the botindia\n",
      "Bot reply you :  conversations:\n",
      "\n",
      "chat with the botare you drunk\n",
      "Bot reply you :    - No, I am as happy as ever.\n",
      "\n",
      "chat with the botwhy are you happy\n",
      "Bot reply you :    - What makes me sad.\n",
      "\n",
      "chat with the botyour boyfriend\n",
      "Bot reply you :    - i certainly have lost many friends over the years.\n",
      "\n",
      "chat with the botwhy\n",
      "Bot reply you :    - Is there a reason that I should?\n",
      "\n",
      "chat with the botmaybe\n",
      "Bot reply you :    - Not particularly.\n",
      "\n"
     ]
    }
   ],
   "source": [
    "while True:\n",
    "    ip=input(\"chat with the bot\")\n",
    "    if ip=='bye' or ip==\"Bye\":\n",
    "        break\n",
    "    if ip!='bye' or ip!=\"Bye\":\n",
    "        reply=kgp.get_response(ip)\n",
    "        print('Bot reply you : ',reply)"
   ]
  },
  {
   "cell_type": "code",
   "execution_count": null,
   "metadata": {},
   "outputs": [],
   "source": []
  }
 ],
 "metadata": {
  "kernelspec": {
   "display_name": "Python 3",
   "language": "python",
   "name": "python3"
  },
  "language_info": {
   "codemirror_mode": {
    "name": "ipython",
    "version": 3
   },
   "file_extension": ".py",
   "mimetype": "text/x-python",
   "name": "python",
   "nbconvert_exporter": "python",
   "pygments_lexer": "ipython3",
   "version": "3.7.4"
  }
 },
 "nbformat": 4,
 "nbformat_minor": 2
}
